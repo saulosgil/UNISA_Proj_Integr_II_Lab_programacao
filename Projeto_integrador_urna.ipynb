{
 "cells": [
  {
   "cell_type": "code",
   "execution_count": 3,
   "id": "f64cc1c5-a457-44f6-8fc4-f2761ffea90d",
   "metadata": {},
   "outputs": [],
   "source": [
    "# Bibliotecas \n",
    "import pandas as pd\n",
    "import os\n"
   ]
  },
  {
   "cell_type": "code",
   "execution_count": null,
   "id": "5c802af6-a723-445c-abb4-761ce029bfd2",
   "metadata": {},
   "outputs": [
    {
     "name": "stdin",
     "output_type": "stream",
     "text": [
      "número de eleitores 10\n"
     ]
    },
    {
     "name": "stdout",
     "output_type": "stream",
     "text": [
      "********************************************************************************\n"
     ]
    },
    {
     "name": "stdin",
     "output_type": "stream",
     "text": [
      "Digite 1 para imprimir zerézima ou Digite 2 para iniciar a votação 2\n"
     ]
    },
    {
     "name": "stdout",
     "output_type": "stream",
     "text": [
      "********************************************************************************\n",
      "INICIAR VOLTAÇÃO\n"
     ]
    },
    {
     "name": "stdin",
     "output_type": "stream",
     "text": [
      "Para quem gostaria de votar para PREFEITO?   Numero         Nome     Cargo Partido  Votos\n",
      "0      21        Paulo  Prefeito      PT      0\n",
      "1      22        Pedro  Prefeito    PSDB      0\n",
      "2      23        Julio  Prefeito    PSOL      0\n",
      "3       0  Branco/nulo         -       -      0\n",
      " 21\n",
      "PARA CONFIRMAR, DIGITE NOVAMENTE O NÚMERO DO SEU CANDIDATO 21\n"
     ]
    },
    {
     "name": "stdout",
     "output_type": "stream",
     "text": [
      "********************************************************************************\n"
     ]
    },
    {
     "name": "stdin",
     "output_type": "stream",
     "text": [
      "Digite 1 para imprimir zerézima ou Digite 2 para iniciar a votação 21\n"
     ]
    },
    {
     "name": "stdout",
     "output_type": "stream",
     "text": [
      "********************************************************************************\n",
      "INICIAR VOLTAÇÃO\n"
     ]
    },
    {
     "name": "stdin",
     "output_type": "stream",
     "text": [
      "Para quem gostaria de votar para PREFEITO?   Numero         Nome     Cargo Partido  Votos\n",
      "0      21        Paulo  Prefeito      PT      0\n",
      "1      22        Pedro  Prefeito    PSDB      0\n",
      "2      23        Julio  Prefeito    PSOL      0\n",
      "3       0  Branco/nulo         -       -      0\n",
      " 21\n",
      "PARA CONFIRMAR, DIGITE NOVAMENTE O NÚMERO DO SEU CANDIDATO 21\n"
     ]
    },
    {
     "name": "stdout",
     "output_type": "stream",
     "text": [
      "********************************************************************************\n"
     ]
    },
    {
     "name": "stdin",
     "output_type": "stream",
     "text": [
      "Digite 1 para imprimir zerézima ou Digite 2 para iniciar a votação 2\n"
     ]
    },
    {
     "name": "stdout",
     "output_type": "stream",
     "text": [
      "********************************************************************************\n",
      "INICIAR VOLTAÇÃO\n"
     ]
    },
    {
     "name": "stdin",
     "output_type": "stream",
     "text": [
      "Para quem gostaria de votar para PREFEITO?   Numero         Nome     Cargo Partido  Votos\n",
      "0      21        Paulo  Prefeito      PT      0\n",
      "1      22        Pedro  Prefeito    PSDB      0\n",
      "2      23        Julio  Prefeito    PSOL      0\n",
      "3       0  Branco/nulo         -       -      0\n",
      " 21\n",
      "PARA CONFIRMAR, DIGITE NOVAMENTE O NÚMERO DO SEU CANDIDATO 21\n"
     ]
    },
    {
     "name": "stdout",
     "output_type": "stream",
     "text": [
      "********************************************************************************\n"
     ]
    },
    {
     "name": "stdin",
     "output_type": "stream",
     "text": [
      "Digite 1 para imprimir zerézima ou Digite 2 para iniciar a votação 2\n"
     ]
    },
    {
     "name": "stdout",
     "output_type": "stream",
     "text": [
      "********************************************************************************\n",
      "INICIAR VOLTAÇÃO\n"
     ]
    },
    {
     "name": "stdin",
     "output_type": "stream",
     "text": [
      "Para quem gostaria de votar para PREFEITO?   Numero         Nome     Cargo Partido  Votos\n",
      "0      21        Paulo  Prefeito      PT      0\n",
      "1      22        Pedro  Prefeito    PSDB      0\n",
      "2      23        Julio  Prefeito    PSOL      0\n",
      "3       0  Branco/nulo         -       -      0\n",
      " 21\n",
      "PARA CONFIRMAR, DIGITE NOVAMENTE O NÚMERO DO SEU CANDIDATO 21\n"
     ]
    },
    {
     "name": "stdout",
     "output_type": "stream",
     "text": [
      "********************************************************************************\n"
     ]
    },
    {
     "name": "stdin",
     "output_type": "stream",
     "text": [
      "Digite 1 para imprimir zerézima ou Digite 2 para iniciar a votação 23\n"
     ]
    },
    {
     "name": "stdout",
     "output_type": "stream",
     "text": [
      "********************************************************************************\n",
      "INICIAR VOLTAÇÃO\n"
     ]
    },
    {
     "name": "stdin",
     "output_type": "stream",
     "text": [
      "Para quem gostaria de votar para PREFEITO?   Numero         Nome     Cargo Partido  Votos\n",
      "0      21        Paulo  Prefeito      PT      0\n",
      "1      22        Pedro  Prefeito    PSDB      0\n",
      "2      23        Julio  Prefeito    PSOL      0\n",
      "3       0  Branco/nulo         -       -      0\n",
      " 23\n",
      "PARA CONFIRMAR, DIGITE NOVAMENTE O NÚMERO DO SEU CANDIDATO 23\n"
     ]
    },
    {
     "name": "stdout",
     "output_type": "stream",
     "text": [
      "********************************************************************************\n"
     ]
    },
    {
     "name": "stdin",
     "output_type": "stream",
     "text": [
      "Digite 1 para imprimir zerézima ou Digite 2 para iniciar a votação 23\n"
     ]
    },
    {
     "name": "stdout",
     "output_type": "stream",
     "text": [
      "********************************************************************************\n",
      "INICIAR VOLTAÇÃO\n"
     ]
    },
    {
     "name": "stdin",
     "output_type": "stream",
     "text": [
      "Para quem gostaria de votar para PREFEITO?   Numero         Nome     Cargo Partido  Votos\n",
      "0      21        Paulo  Prefeito      PT      0\n",
      "1      22        Pedro  Prefeito    PSDB      0\n",
      "2      23        Julio  Prefeito    PSOL      0\n",
      "3       0  Branco/nulo         -       -      0\n",
      " 23\n",
      "PARA CONFIRMAR, DIGITE NOVAMENTE O NÚMERO DO SEU CANDIDATO 23\n"
     ]
    },
    {
     "name": "stdout",
     "output_type": "stream",
     "text": [
      "********************************************************************************\n"
     ]
    },
    {
     "name": "stdin",
     "output_type": "stream",
     "text": [
      "Digite 1 para imprimir zerézima ou Digite 2 para iniciar a votação 2\n"
     ]
    },
    {
     "name": "stdout",
     "output_type": "stream",
     "text": [
      "********************************************************************************\n",
      "INICIAR VOLTAÇÃO\n"
     ]
    },
    {
     "name": "stdin",
     "output_type": "stream",
     "text": [
      "Para quem gostaria de votar para PREFEITO?   Numero         Nome     Cargo Partido  Votos\n",
      "0      21        Paulo  Prefeito      PT      0\n",
      "1      22        Pedro  Prefeito    PSDB      0\n",
      "2      23        Julio  Prefeito    PSOL      0\n",
      "3       0  Branco/nulo         -       -      0\n",
      " 22\n",
      "PARA CONFIRMAR, DIGITE NOVAMENTE O NÚMERO DO SEU CANDIDATO 22\n"
     ]
    },
    {
     "name": "stdout",
     "output_type": "stream",
     "text": [
      "********************************************************************************\n"
     ]
    },
    {
     "name": "stdin",
     "output_type": "stream",
     "text": [
      "Digite 1 para imprimir zerézima ou Digite 2 para iniciar a votação 2\n"
     ]
    },
    {
     "name": "stdout",
     "output_type": "stream",
     "text": [
      "********************************************************************************\n",
      "INICIAR VOLTAÇÃO\n"
     ]
    },
    {
     "name": "stdin",
     "output_type": "stream",
     "text": [
      "Para quem gostaria de votar para PREFEITO?   Numero         Nome     Cargo Partido  Votos\n",
      "0      21        Paulo  Prefeito      PT      0\n",
      "1      22        Pedro  Prefeito    PSDB      0\n",
      "2      23        Julio  Prefeito    PSOL      0\n",
      "3       0  Branco/nulo         -       -      0\n",
      " 2\n",
      "PARA CONFIRMAR, DIGITE NOVAMENTE O NÚMERO DO SEU CANDIDATO 2\n"
     ]
    },
    {
     "name": "stdout",
     "output_type": "stream",
     "text": [
      "********************************************************************************\n"
     ]
    },
    {
     "name": "stdin",
     "output_type": "stream",
     "text": [
      "Digite 1 para imprimir zerézima ou Digite 2 para iniciar a votação 2\n"
     ]
    },
    {
     "name": "stdout",
     "output_type": "stream",
     "text": [
      "********************************************************************************\n",
      "INICIAR VOLTAÇÃO\n"
     ]
    },
    {
     "name": "stdin",
     "output_type": "stream",
     "text": [
      "Para quem gostaria de votar para PREFEITO?   Numero         Nome     Cargo Partido  Votos\n",
      "0      21        Paulo  Prefeito      PT      0\n",
      "1      22        Pedro  Prefeito    PSDB      0\n",
      "2      23        Julio  Prefeito    PSOL      0\n",
      "3       0  Branco/nulo         -       -      0\n",
      " 2\n",
      "PARA CONFIRMAR, DIGITE NOVAMENTE O NÚMERO DO SEU CANDIDATO 2\n"
     ]
    },
    {
     "name": "stdout",
     "output_type": "stream",
     "text": [
      "********************************************************************************\n"
     ]
    },
    {
     "name": "stdin",
     "output_type": "stream",
     "text": [
      "Digite 1 para imprimir zerézima ou Digite 2 para iniciar a votação 2\n"
     ]
    },
    {
     "name": "stdout",
     "output_type": "stream",
     "text": [
      "********************************************************************************\n",
      "INICIAR VOLTAÇÃO\n"
     ]
    },
    {
     "name": "stdin",
     "output_type": "stream",
     "text": [
      "Para quem gostaria de votar para PREFEITO?   Numero         Nome     Cargo Partido  Votos\n",
      "0      21        Paulo  Prefeito      PT      0\n",
      "1      22        Pedro  Prefeito    PSDB      0\n",
      "2      23        Julio  Prefeito    PSOL      0\n",
      "3       0  Branco/nulo         -       -      0\n",
      " 2\n",
      "PARA CONFIRMAR, DIGITE NOVAMENTE O NÚMERO DO SEU CANDIDATO 2\n"
     ]
    },
    {
     "name": "stdout",
     "output_type": "stream",
     "text": [
      "TOTAL DE VOTOS:10\n",
      "Total: PAULO-PT:4\n",
      "Total: PEDRO-PSDB:1\n",
      "Total: JULIO-PSOL:2\n",
      "Branco/Nulo:3\n",
      "\n",
      "PAULO GANHOU!!!\n"
     ]
    }
   ],
   "source": [
    "# VOTAÇÃO PARA PREFEITO\n",
    "\n",
    "# Dataframe dos candidatos para zerézima\n",
    "\n",
    "prefeitos = pd.DataFrame({\n",
    "    \"Numero\": [21, 22, 23, 0],\n",
    "    \"Nome\": ['Paulo', 'Pedro', 'Julio', 'Branco/nulo'],\n",
    "    \"Cargo\": ['Prefeito', 'Prefeito', 'Prefeito','-'],\n",
    "    \"Partido\": ['PT', 'PSDB', 'PSOL', '-'],\n",
    "    \"Votos\": [0, 0, 0, 0]    \n",
    "})\n",
    "\n",
    "# Constantes\n",
    "votos_Paulo = votos_Pedro = votos_Julio = votos_branco = 0\n",
    "\n",
    "eleitores = int(input(\"número de eleitores\"))\n",
    "for n in range(eleitores):\n",
    "    print('*'*80)\n",
    "    tela_1 = int(input(\"Digite 1 para imprimir zerézima ou Digite 2 para iniciar a votação\"))\n",
    "    print('*'*80)\n",
    "    if tela_1 == 1:\n",
    "        print(f'ZERÉZIMA{os.linesep}{prefeitos}')\n",
    "    else:\n",
    "        print('INICIAR VOLTAÇÃO')\n",
    "        pass\n",
    "    votos = int(input(f'Para quem gostaria de votar para PREFEITO?{prefeitos}{os.linesep}'))\n",
    "    confirmar = int(input('PARA CONFIRMAR, DIGITE NOVAMENTE O NÚMERO DO SEU CANDIDATO'))\n",
    "    if confirmar == 21:\n",
    "        votos_Paulo += 1\n",
    "    elif confirmar == 22:\n",
    "        votos_Pedro += 1\n",
    "    elif confirmar == 23:\n",
    "        votos_Julio += 1\n",
    "    elif votos < 21 or votos > 23:\n",
    "        votos_branco += 1\n",
    "    else:\n",
    "        break\n",
    "print(f'TOTAL DE VOTOS:{eleitores}{os.linesep}Total: PAULO-PT:{votos_Paulo}{os.linesep}Total: PEDRO-PSDB:{votos_Pedro}{os.linesep}Total: JULIO-PSOL:{votos_Julio}{os.linesep}Branco/Nulo:{votos_branco}{os.linesep}')\n",
    "\n",
    "# VEIFICAR QUEM GANHOU\n",
    "\n",
    "if votos_Paulo > votos_Pedro and votos_Paulo > votos_Julio:\n",
    "    print('PAULO GANHOU!!!')\n",
    "elif votos_Pedro > votos_Paulo and votos_Pedro > votos_Julio:\n",
    "    print('PEDRO GANHOU!!!')\n",
    "elif votos_Pedro > votos_Paulo and votos_Pedro > votos_Julio:\n",
    "    print('JULIO GANHOU!!!')\n",
    "else:\n",
    "    print ('HOUVE EMPATE E, DESTA MANEIRA, HAVERÁ 2° TURNO!!!')"
   ]
  },
  {
   "cell_type": "code",
   "execution_count": 35,
   "id": "8b36fe39-77cd-40ff-8a13-f8d08418f3cf",
   "metadata": {},
   "outputs": [
    {
     "name": "stdin",
     "output_type": "stream",
     "text": [
      "número de eleitores 20\n"
     ]
    },
    {
     "name": "stdout",
     "output_type": "stream",
     "text": [
      "********************************************************************************\n"
     ]
    },
    {
     "name": "stdin",
     "output_type": "stream",
     "text": [
      "Digite 1 para imprimir zerézima ou Digite 2 para iniciar a votação 2\n"
     ]
    },
    {
     "name": "stdout",
     "output_type": "stream",
     "text": [
      "********************************************************************************\n",
      "INICIAR VOTAÇÃO\n"
     ]
    },
    {
     "name": "stdin",
     "output_type": "stream",
     "text": [
      "Para quem gostaria de votar para VEREADOR?\n",
      "    Numero     Nome     Cargo Partido  Votos\n",
      "0    11543   Carlos  Vereador    PSDB      0\n",
      "1    12543     Joao  Vereador    PSOL      0\n",
      "2    13543    Mario  Vereador      PT      0\n",
      "3    14543   Collor  Vereador    PSDB      0\n",
      "4    15543    Doria  Vereador    PSOL      0\n",
      "5    16543   Guzmao  Vereador    PSDB      0\n",
      "6    17543  Mariano  Vereador    PSOL      0\n",
      "7    18543    Sueli  Vereador    PSOL      0\n",
      "8    19543    Maria  Vereador      PT      0\n",
      "9    20543     Adao  Vereador    PSDB      0\n",
      "10       0   Branco    Branco  Branco      0\n",
      " 11543  \n",
      "PARA CONFIRMAR, DIGITE NOVAMENTE O NÚMERO DO SEU CANDIDATO 11543\n"
     ]
    },
    {
     "name": "stdout",
     "output_type": "stream",
     "text": [
      "********************************************************************************\n"
     ]
    },
    {
     "name": "stdin",
     "output_type": "stream",
     "text": [
      "Digite 1 para imprimir zerézima ou Digite 2 para iniciar a votação 2\n"
     ]
    },
    {
     "name": "stdout",
     "output_type": "stream",
     "text": [
      "********************************************************************************\n",
      "INICIAR VOTAÇÃO\n"
     ]
    },
    {
     "name": "stdin",
     "output_type": "stream",
     "text": [
      "Para quem gostaria de votar para VEREADOR?\n",
      "    Numero     Nome     Cargo Partido  Votos\n",
      "0    11543   Carlos  Vereador    PSDB      0\n",
      "1    12543     Joao  Vereador    PSOL      0\n",
      "2    13543    Mario  Vereador      PT      0\n",
      "3    14543   Collor  Vereador    PSDB      0\n",
      "4    15543    Doria  Vereador    PSOL      0\n",
      "5    16543   Guzmao  Vereador    PSDB      0\n",
      "6    17543  Mariano  Vereador    PSOL      0\n",
      "7    18543    Sueli  Vereador    PSOL      0\n",
      "8    19543    Maria  Vereador      PT      0\n",
      "9    20543     Adao  Vereador    PSDB      0\n",
      "10       0   Branco    Branco  Branco      0\n",
      " 11543\n",
      "PARA CONFIRMAR, DIGITE NOVAMENTE O NÚMERO DO SEU CANDIDATO 11543\n"
     ]
    },
    {
     "name": "stdout",
     "output_type": "stream",
     "text": [
      "********************************************************************************\n"
     ]
    },
    {
     "name": "stdin",
     "output_type": "stream",
     "text": [
      "Digite 1 para imprimir zerézima ou Digite 2 para iniciar a votação 11543\n"
     ]
    },
    {
     "name": "stdout",
     "output_type": "stream",
     "text": [
      "********************************************************************************\n",
      "INICIAR VOTAÇÃO\n"
     ]
    },
    {
     "name": "stdin",
     "output_type": "stream",
     "text": [
      "Para quem gostaria de votar para VEREADOR?\n",
      "    Numero     Nome     Cargo Partido  Votos\n",
      "0    11543   Carlos  Vereador    PSDB      0\n",
      "1    12543     Joao  Vereador    PSOL      0\n",
      "2    13543    Mario  Vereador      PT      0\n",
      "3    14543   Collor  Vereador    PSDB      0\n",
      "4    15543    Doria  Vereador    PSOL      0\n",
      "5    16543   Guzmao  Vereador    PSDB      0\n",
      "6    17543  Mariano  Vereador    PSOL      0\n",
      "7    18543    Sueli  Vereador    PSOL      0\n",
      "8    19543    Maria  Vereador      PT      0\n",
      "9    20543     Adao  Vereador    PSDB      0\n",
      "10       0   Branco    Branco  Branco      0\n",
      " 11543\n",
      "PARA CONFIRMAR, DIGITE NOVAMENTE O NÚMERO DO SEU CANDIDATO 11543\n"
     ]
    },
    {
     "name": "stdout",
     "output_type": "stream",
     "text": [
      "********************************************************************************\n"
     ]
    },
    {
     "name": "stdin",
     "output_type": "stream",
     "text": [
      "Digite 1 para imprimir zerézima ou Digite 2 para iniciar a votação 12543\n"
     ]
    },
    {
     "name": "stdout",
     "output_type": "stream",
     "text": [
      "********************************************************************************\n",
      "INICIAR VOTAÇÃO\n"
     ]
    },
    {
     "name": "stdin",
     "output_type": "stream",
     "text": [
      "Para quem gostaria de votar para VEREADOR?\n",
      "    Numero     Nome     Cargo Partido  Votos\n",
      "0    11543   Carlos  Vereador    PSDB      0\n",
      "1    12543     Joao  Vereador    PSOL      0\n",
      "2    13543    Mario  Vereador      PT      0\n",
      "3    14543   Collor  Vereador    PSDB      0\n",
      "4    15543    Doria  Vereador    PSOL      0\n",
      "5    16543   Guzmao  Vereador    PSDB      0\n",
      "6    17543  Mariano  Vereador    PSOL      0\n",
      "7    18543    Sueli  Vereador    PSOL      0\n",
      "8    19543    Maria  Vereador      PT      0\n",
      "9    20543     Adao  Vereador    PSDB      0\n",
      "10       0   Branco    Branco  Branco      0\n",
      " 12543\n",
      "PARA CONFIRMAR, DIGITE NOVAMENTE O NÚMERO DO SEU CANDIDATO 12543\n"
     ]
    },
    {
     "name": "stdout",
     "output_type": "stream",
     "text": [
      "********************************************************************************\n"
     ]
    },
    {
     "name": "stdin",
     "output_type": "stream",
     "text": [
      "Digite 1 para imprimir zerézima ou Digite 2 para iniciar a votação 2\n"
     ]
    },
    {
     "name": "stdout",
     "output_type": "stream",
     "text": [
      "********************************************************************************\n",
      "INICIAR VOTAÇÃO\n"
     ]
    },
    {
     "name": "stdin",
     "output_type": "stream",
     "text": [
      "Para quem gostaria de votar para VEREADOR?\n",
      "    Numero     Nome     Cargo Partido  Votos\n",
      "0    11543   Carlos  Vereador    PSDB      0\n",
      "1    12543     Joao  Vereador    PSOL      0\n",
      "2    13543    Mario  Vereador      PT      0\n",
      "3    14543   Collor  Vereador    PSDB      0\n",
      "4    15543    Doria  Vereador    PSOL      0\n",
      "5    16543   Guzmao  Vereador    PSDB      0\n",
      "6    17543  Mariano  Vereador    PSOL      0\n",
      "7    18543    Sueli  Vereador    PSOL      0\n",
      "8    19543    Maria  Vereador      PT      0\n",
      "9    20543     Adao  Vereador    PSDB      0\n",
      "10       0   Branco    Branco  Branco      0\n",
      " 11543\n",
      "PARA CONFIRMAR, DIGITE NOVAMENTE O NÚMERO DO SEU CANDIDATO 11543\n"
     ]
    },
    {
     "name": "stdout",
     "output_type": "stream",
     "text": [
      "********************************************************************************\n"
     ]
    },
    {
     "name": "stdin",
     "output_type": "stream",
     "text": [
      "Digite 1 para imprimir zerézima ou Digite 2 para iniciar a votação 14543\n"
     ]
    },
    {
     "name": "stdout",
     "output_type": "stream",
     "text": [
      "********************************************************************************\n",
      "INICIAR VOTAÇÃO\n"
     ]
    },
    {
     "name": "stdin",
     "output_type": "stream",
     "text": [
      "Para quem gostaria de votar para VEREADOR?\n",
      "    Numero     Nome     Cargo Partido  Votos\n",
      "0    11543   Carlos  Vereador    PSDB      0\n",
      "1    12543     Joao  Vereador    PSOL      0\n",
      "2    13543    Mario  Vereador      PT      0\n",
      "3    14543   Collor  Vereador    PSDB      0\n",
      "4    15543    Doria  Vereador    PSOL      0\n",
      "5    16543   Guzmao  Vereador    PSDB      0\n",
      "6    17543  Mariano  Vereador    PSOL      0\n",
      "7    18543    Sueli  Vereador    PSOL      0\n",
      "8    19543    Maria  Vereador      PT      0\n",
      "9    20543     Adao  Vereador    PSDB      0\n",
      "10       0   Branco    Branco  Branco      0\n",
      " 14543\n",
      "PARA CONFIRMAR, DIGITE NOVAMENTE O NÚMERO DO SEU CANDIDATO 14543\n"
     ]
    },
    {
     "name": "stdout",
     "output_type": "stream",
     "text": [
      "********************************************************************************\n"
     ]
    },
    {
     "name": "stdin",
     "output_type": "stream",
     "text": [
      "Digite 1 para imprimir zerézima ou Digite 2 para iniciar a votação 14543\n"
     ]
    },
    {
     "name": "stdout",
     "output_type": "stream",
     "text": [
      "********************************************************************************\n",
      "INICIAR VOTAÇÃO\n"
     ]
    },
    {
     "name": "stdin",
     "output_type": "stream",
     "text": [
      "Para quem gostaria de votar para VEREADOR?\n",
      "    Numero     Nome     Cargo Partido  Votos\n",
      "0    11543   Carlos  Vereador    PSDB      0\n",
      "1    12543     Joao  Vereador    PSOL      0\n",
      "2    13543    Mario  Vereador      PT      0\n",
      "3    14543   Collor  Vereador    PSDB      0\n",
      "4    15543    Doria  Vereador    PSOL      0\n",
      "5    16543   Guzmao  Vereador    PSDB      0\n",
      "6    17543  Mariano  Vereador    PSOL      0\n",
      "7    18543    Sueli  Vereador    PSOL      0\n",
      "8    19543    Maria  Vereador      PT      0\n",
      "9    20543     Adao  Vereador    PSDB      0\n",
      "10       0   Branco    Branco  Branco      0\n",
      " 14543\n",
      "PARA CONFIRMAR, DIGITE NOVAMENTE O NÚMERO DO SEU CANDIDATO 14543\n"
     ]
    },
    {
     "name": "stdout",
     "output_type": "stream",
     "text": [
      "********************************************************************************\n"
     ]
    },
    {
     "name": "stdin",
     "output_type": "stream",
     "text": [
      "Digite 1 para imprimir zerézima ou Digite 2 para iniciar a votação 14543\n"
     ]
    },
    {
     "name": "stdout",
     "output_type": "stream",
     "text": [
      "********************************************************************************\n",
      "INICIAR VOTAÇÃO\n"
     ]
    },
    {
     "name": "stdin",
     "output_type": "stream",
     "text": [
      "Para quem gostaria de votar para VEREADOR?\n",
      "    Numero     Nome     Cargo Partido  Votos\n",
      "0    11543   Carlos  Vereador    PSDB      0\n",
      "1    12543     Joao  Vereador    PSOL      0\n",
      "2    13543    Mario  Vereador      PT      0\n",
      "3    14543   Collor  Vereador    PSDB      0\n",
      "4    15543    Doria  Vereador    PSOL      0\n",
      "5    16543   Guzmao  Vereador    PSDB      0\n",
      "6    17543  Mariano  Vereador    PSOL      0\n",
      "7    18543    Sueli  Vereador    PSOL      0\n",
      "8    19543    Maria  Vereador      PT      0\n",
      "9    20543     Adao  Vereador    PSDB      0\n",
      "10       0   Branco    Branco  Branco      0\n",
      " 14543\n",
      "PARA CONFIRMAR, DIGITE NOVAMENTE O NÚMERO DO SEU CANDIDATO 14543\n"
     ]
    },
    {
     "name": "stdout",
     "output_type": "stream",
     "text": [
      "********************************************************************************\n"
     ]
    },
    {
     "name": "stdin",
     "output_type": "stream",
     "text": [
      "Digite 1 para imprimir zerézima ou Digite 2 para iniciar a votação 14543\n"
     ]
    },
    {
     "name": "stdout",
     "output_type": "stream",
     "text": [
      "********************************************************************************\n",
      "INICIAR VOTAÇÃO\n"
     ]
    },
    {
     "name": "stdin",
     "output_type": "stream",
     "text": [
      "Para quem gostaria de votar para VEREADOR?\n",
      "    Numero     Nome     Cargo Partido  Votos\n",
      "0    11543   Carlos  Vereador    PSDB      0\n",
      "1    12543     Joao  Vereador    PSOL      0\n",
      "2    13543    Mario  Vereador      PT      0\n",
      "3    14543   Collor  Vereador    PSDB      0\n",
      "4    15543    Doria  Vereador    PSOL      0\n",
      "5    16543   Guzmao  Vereador    PSDB      0\n",
      "6    17543  Mariano  Vereador    PSOL      0\n",
      "7    18543    Sueli  Vereador    PSOL      0\n",
      "8    19543    Maria  Vereador      PT      0\n",
      "9    20543     Adao  Vereador    PSDB      0\n",
      "10       0   Branco    Branco  Branco      0\n",
      " 14543\n",
      "PARA CONFIRMAR, DIGITE NOVAMENTE O NÚMERO DO SEU CANDIDATO 14543\n"
     ]
    },
    {
     "name": "stdout",
     "output_type": "stream",
     "text": [
      "********************************************************************************\n"
     ]
    },
    {
     "name": "stdin",
     "output_type": "stream",
     "text": [
      "Digite 1 para imprimir zerézima ou Digite 2 para iniciar a votação 14543\n"
     ]
    },
    {
     "name": "stdout",
     "output_type": "stream",
     "text": [
      "********************************************************************************\n",
      "INICIAR VOTAÇÃO\n"
     ]
    },
    {
     "name": "stdin",
     "output_type": "stream",
     "text": [
      "Para quem gostaria de votar para VEREADOR?\n",
      "    Numero     Nome     Cargo Partido  Votos\n",
      "0    11543   Carlos  Vereador    PSDB      0\n",
      "1    12543     Joao  Vereador    PSOL      0\n",
      "2    13543    Mario  Vereador      PT      0\n",
      "3    14543   Collor  Vereador    PSDB      0\n",
      "4    15543    Doria  Vereador    PSOL      0\n",
      "5    16543   Guzmao  Vereador    PSDB      0\n",
      "6    17543  Mariano  Vereador    PSOL      0\n",
      "7    18543    Sueli  Vereador    PSOL      0\n",
      "8    19543    Maria  Vereador      PT      0\n",
      "9    20543     Adao  Vereador    PSDB      0\n",
      "10       0   Branco    Branco  Branco      0\n",
      " 14543\n",
      "PARA CONFIRMAR, DIGITE NOVAMENTE O NÚMERO DO SEU CANDIDATO 14543\n"
     ]
    },
    {
     "name": "stdout",
     "output_type": "stream",
     "text": [
      "********************************************************************************\n"
     ]
    },
    {
     "name": "stdin",
     "output_type": "stream",
     "text": [
      "Digite 1 para imprimir zerézima ou Digite 2 para iniciar a votação 14543\n"
     ]
    },
    {
     "name": "stdout",
     "output_type": "stream",
     "text": [
      "********************************************************************************\n",
      "INICIAR VOTAÇÃO\n"
     ]
    },
    {
     "name": "stdin",
     "output_type": "stream",
     "text": [
      "Para quem gostaria de votar para VEREADOR?\n",
      "    Numero     Nome     Cargo Partido  Votos\n",
      "0    11543   Carlos  Vereador    PSDB      0\n",
      "1    12543     Joao  Vereador    PSOL      0\n",
      "2    13543    Mario  Vereador      PT      0\n",
      "3    14543   Collor  Vereador    PSDB      0\n",
      "4    15543    Doria  Vereador    PSOL      0\n",
      "5    16543   Guzmao  Vereador    PSDB      0\n",
      "6    17543  Mariano  Vereador    PSOL      0\n",
      "7    18543    Sueli  Vereador    PSOL      0\n",
      "8    19543    Maria  Vereador      PT      0\n",
      "9    20543     Adao  Vereador    PSDB      0\n",
      "10       0   Branco    Branco  Branco      0\n",
      " 14543\n",
      "PARA CONFIRMAR, DIGITE NOVAMENTE O NÚMERO DO SEU CANDIDATO 14543\n"
     ]
    },
    {
     "name": "stdout",
     "output_type": "stream",
     "text": [
      "********************************************************************************\n"
     ]
    },
    {
     "name": "stdin",
     "output_type": "stream",
     "text": [
      "Digite 1 para imprimir zerézima ou Digite 2 para iniciar a votação 14543\n"
     ]
    },
    {
     "name": "stdout",
     "output_type": "stream",
     "text": [
      "********************************************************************************\n",
      "INICIAR VOTAÇÃO\n"
     ]
    },
    {
     "name": "stdin",
     "output_type": "stream",
     "text": [
      "Para quem gostaria de votar para VEREADOR?\n",
      "    Numero     Nome     Cargo Partido  Votos\n",
      "0    11543   Carlos  Vereador    PSDB      0\n",
      "1    12543     Joao  Vereador    PSOL      0\n",
      "2    13543    Mario  Vereador      PT      0\n",
      "3    14543   Collor  Vereador    PSDB      0\n",
      "4    15543    Doria  Vereador    PSOL      0\n",
      "5    16543   Guzmao  Vereador    PSDB      0\n",
      "6    17543  Mariano  Vereador    PSOL      0\n",
      "7    18543    Sueli  Vereador    PSOL      0\n",
      "8    19543    Maria  Vereador      PT      0\n",
      "9    20543     Adao  Vereador    PSDB      0\n",
      "10       0   Branco    Branco  Branco      0\n",
      " 14543\n",
      "PARA CONFIRMAR, DIGITE NOVAMENTE O NÚMERO DO SEU CANDIDATO 14543\n"
     ]
    },
    {
     "name": "stdout",
     "output_type": "stream",
     "text": [
      "********************************************************************************\n"
     ]
    },
    {
     "name": "stdin",
     "output_type": "stream",
     "text": [
      "Digite 1 para imprimir zerézima ou Digite 2 para iniciar a votação 14543\n"
     ]
    },
    {
     "name": "stdout",
     "output_type": "stream",
     "text": [
      "********************************************************************************\n",
      "INICIAR VOTAÇÃO\n"
     ]
    },
    {
     "name": "stdin",
     "output_type": "stream",
     "text": [
      "Para quem gostaria de votar para VEREADOR?\n",
      "    Numero     Nome     Cargo Partido  Votos\n",
      "0    11543   Carlos  Vereador    PSDB      0\n",
      "1    12543     Joao  Vereador    PSOL      0\n",
      "2    13543    Mario  Vereador      PT      0\n",
      "3    14543   Collor  Vereador    PSDB      0\n",
      "4    15543    Doria  Vereador    PSOL      0\n",
      "5    16543   Guzmao  Vereador    PSDB      0\n",
      "6    17543  Mariano  Vereador    PSOL      0\n",
      "7    18543    Sueli  Vereador    PSOL      0\n",
      "8    19543    Maria  Vereador      PT      0\n",
      "9    20543     Adao  Vereador    PSDB      0\n",
      "10       0   Branco    Branco  Branco      0\n",
      " 15543\n",
      "PARA CONFIRMAR, DIGITE NOVAMENTE O NÚMERO DO SEU CANDIDATO 15543\n"
     ]
    },
    {
     "name": "stdout",
     "output_type": "stream",
     "text": [
      "********************************************************************************\n"
     ]
    },
    {
     "name": "stdin",
     "output_type": "stream",
     "text": [
      "Digite 1 para imprimir zerézima ou Digite 2 para iniciar a votação 16543\n"
     ]
    },
    {
     "name": "stdout",
     "output_type": "stream",
     "text": [
      "********************************************************************************\n",
      "INICIAR VOTAÇÃO\n"
     ]
    },
    {
     "name": "stdin",
     "output_type": "stream",
     "text": [
      "Para quem gostaria de votar para VEREADOR?\n",
      "    Numero     Nome     Cargo Partido  Votos\n",
      "0    11543   Carlos  Vereador    PSDB      0\n",
      "1    12543     Joao  Vereador    PSOL      0\n",
      "2    13543    Mario  Vereador      PT      0\n",
      "3    14543   Collor  Vereador    PSDB      0\n",
      "4    15543    Doria  Vereador    PSOL      0\n",
      "5    16543   Guzmao  Vereador    PSDB      0\n",
      "6    17543  Mariano  Vereador    PSOL      0\n",
      "7    18543    Sueli  Vereador    PSOL      0\n",
      "8    19543    Maria  Vereador      PT      0\n",
      "9    20543     Adao  Vereador    PSDB      0\n",
      "10       0   Branco    Branco  Branco      0\n",
      " 16543\n",
      "PARA CONFIRMAR, DIGITE NOVAMENTE O NÚMERO DO SEU CANDIDATO 16543\n"
     ]
    },
    {
     "name": "stdout",
     "output_type": "stream",
     "text": [
      "********************************************************************************\n"
     ]
    },
    {
     "name": "stdin",
     "output_type": "stream",
     "text": [
      "Digite 1 para imprimir zerézima ou Digite 2 para iniciar a votação 17543\n"
     ]
    },
    {
     "name": "stdout",
     "output_type": "stream",
     "text": [
      "********************************************************************************\n",
      "INICIAR VOTAÇÃO\n"
     ]
    },
    {
     "name": "stdin",
     "output_type": "stream",
     "text": [
      "Para quem gostaria de votar para VEREADOR?\n",
      "    Numero     Nome     Cargo Partido  Votos\n",
      "0    11543   Carlos  Vereador    PSDB      0\n",
      "1    12543     Joao  Vereador    PSOL      0\n",
      "2    13543    Mario  Vereador      PT      0\n",
      "3    14543   Collor  Vereador    PSDB      0\n",
      "4    15543    Doria  Vereador    PSOL      0\n",
      "5    16543   Guzmao  Vereador    PSDB      0\n",
      "6    17543  Mariano  Vereador    PSOL      0\n",
      "7    18543    Sueli  Vereador    PSOL      0\n",
      "8    19543    Maria  Vereador      PT      0\n",
      "9    20543     Adao  Vereador    PSDB      0\n",
      "10       0   Branco    Branco  Branco      0\n",
      " 17543\n",
      "PARA CONFIRMAR, DIGITE NOVAMENTE O NÚMERO DO SEU CANDIDATO 18543\n"
     ]
    },
    {
     "name": "stdout",
     "output_type": "stream",
     "text": [
      "********************************************************************************\n"
     ]
    },
    {
     "name": "stdin",
     "output_type": "stream",
     "text": [
      "Digite 1 para imprimir zerézima ou Digite 2 para iniciar a votação 18543\n"
     ]
    },
    {
     "name": "stdout",
     "output_type": "stream",
     "text": [
      "********************************************************************************\n",
      "INICIAR VOTAÇÃO\n"
     ]
    },
    {
     "name": "stdin",
     "output_type": "stream",
     "text": [
      "Para quem gostaria de votar para VEREADOR?\n",
      "    Numero     Nome     Cargo Partido  Votos\n",
      "0    11543   Carlos  Vereador    PSDB      0\n",
      "1    12543     Joao  Vereador    PSOL      0\n",
      "2    13543    Mario  Vereador      PT      0\n",
      "3    14543   Collor  Vereador    PSDB      0\n",
      "4    15543    Doria  Vereador    PSOL      0\n",
      "5    16543   Guzmao  Vereador    PSDB      0\n",
      "6    17543  Mariano  Vereador    PSOL      0\n",
      "7    18543    Sueli  Vereador    PSOL      0\n",
      "8    19543    Maria  Vereador      PT      0\n",
      "9    20543     Adao  Vereador    PSDB      0\n",
      "10       0   Branco    Branco  Branco      0\n",
      " 18543\n",
      "PARA CONFIRMAR, DIGITE NOVAMENTE O NÚMERO DO SEU CANDIDATO 19543\n"
     ]
    },
    {
     "name": "stdout",
     "output_type": "stream",
     "text": [
      "********************************************************************************\n"
     ]
    },
    {
     "name": "stdin",
     "output_type": "stream",
     "text": [
      "Digite 1 para imprimir zerézima ou Digite 2 para iniciar a votação 19543\n"
     ]
    },
    {
     "name": "stdout",
     "output_type": "stream",
     "text": [
      "********************************************************************************\n",
      "INICIAR VOTAÇÃO\n"
     ]
    },
    {
     "name": "stdin",
     "output_type": "stream",
     "text": [
      "Para quem gostaria de votar para VEREADOR?\n",
      "    Numero     Nome     Cargo Partido  Votos\n",
      "0    11543   Carlos  Vereador    PSDB      0\n",
      "1    12543     Joao  Vereador    PSOL      0\n",
      "2    13543    Mario  Vereador      PT      0\n",
      "3    14543   Collor  Vereador    PSDB      0\n",
      "4    15543    Doria  Vereador    PSOL      0\n",
      "5    16543   Guzmao  Vereador    PSDB      0\n",
      "6    17543  Mariano  Vereador    PSOL      0\n",
      "7    18543    Sueli  Vereador    PSOL      0\n",
      "8    19543    Maria  Vereador      PT      0\n",
      "9    20543     Adao  Vereador    PSDB      0\n",
      "10       0   Branco    Branco  Branco      0\n",
      " 20543\n",
      "PARA CONFIRMAR, DIGITE NOVAMENTE O NÚMERO DO SEU CANDIDATO 20543\n"
     ]
    },
    {
     "name": "stdout",
     "output_type": "stream",
     "text": [
      "********************************************************************************\n"
     ]
    },
    {
     "name": "stdin",
     "output_type": "stream",
     "text": [
      "Digite 1 para imprimir zerézima ou Digite 2 para iniciar a votação 20543\n"
     ]
    },
    {
     "name": "stdout",
     "output_type": "stream",
     "text": [
      "********************************************************************************\n",
      "INICIAR VOTAÇÃO\n"
     ]
    },
    {
     "name": "stdin",
     "output_type": "stream",
     "text": [
      "Para quem gostaria de votar para VEREADOR?\n",
      "    Numero     Nome     Cargo Partido  Votos\n",
      "0    11543   Carlos  Vereador    PSDB      0\n",
      "1    12543     Joao  Vereador    PSOL      0\n",
      "2    13543    Mario  Vereador      PT      0\n",
      "3    14543   Collor  Vereador    PSDB      0\n",
      "4    15543    Doria  Vereador    PSOL      0\n",
      "5    16543   Guzmao  Vereador    PSDB      0\n",
      "6    17543  Mariano  Vereador    PSOL      0\n",
      "7    18543    Sueli  Vereador    PSOL      0\n",
      "8    19543    Maria  Vereador      PT      0\n",
      "9    20543     Adao  Vereador    PSDB      0\n",
      "10       0   Branco    Branco  Branco      0\n",
      " 20543\n",
      "PARA CONFIRMAR, DIGITE NOVAMENTE O NÚMERO DO SEU CANDIDATO 20543\n"
     ]
    },
    {
     "name": "stdout",
     "output_type": "stream",
     "text": [
      "********************************************************************************\n"
     ]
    },
    {
     "name": "stdin",
     "output_type": "stream",
     "text": [
      "Digite 1 para imprimir zerézima ou Digite 2 para iniciar a votação 20543\n"
     ]
    },
    {
     "name": "stdout",
     "output_type": "stream",
     "text": [
      "********************************************************************************\n",
      "INICIAR VOTAÇÃO\n"
     ]
    },
    {
     "name": "stdin",
     "output_type": "stream",
     "text": [
      "Para quem gostaria de votar para VEREADOR?\n",
      "    Numero     Nome     Cargo Partido  Votos\n",
      "0    11543   Carlos  Vereador    PSDB      0\n",
      "1    12543     Joao  Vereador    PSOL      0\n",
      "2    13543    Mario  Vereador      PT      0\n",
      "3    14543   Collor  Vereador    PSDB      0\n",
      "4    15543    Doria  Vereador    PSOL      0\n",
      "5    16543   Guzmao  Vereador    PSDB      0\n",
      "6    17543  Mariano  Vereador    PSOL      0\n",
      "7    18543    Sueli  Vereador    PSOL      0\n",
      "8    19543    Maria  Vereador      PT      0\n",
      "9    20543     Adao  Vereador    PSDB      0\n",
      "10       0   Branco    Branco  Branco      0\n",
      " 20543\n",
      "PARA CONFIRMAR, DIGITE NOVAMENTE O NÚMERO DO SEU CANDIDATO 20543\n"
     ]
    },
    {
     "name": "stdout",
     "output_type": "stream",
     "text": [
      "********************************************************************************\n"
     ]
    },
    {
     "name": "stdin",
     "output_type": "stream",
     "text": [
      "Digite 1 para imprimir zerézima ou Digite 2 para iniciar a votação 20543\n"
     ]
    },
    {
     "name": "stdout",
     "output_type": "stream",
     "text": [
      "********************************************************************************\n",
      "INICIAR VOTAÇÃO\n"
     ]
    },
    {
     "name": "stdin",
     "output_type": "stream",
     "text": [
      "Para quem gostaria de votar para VEREADOR?\n",
      "    Numero     Nome     Cargo Partido  Votos\n",
      "0    11543   Carlos  Vereador    PSDB      0\n",
      "1    12543     Joao  Vereador    PSOL      0\n",
      "2    13543    Mario  Vereador      PT      0\n",
      "3    14543   Collor  Vereador    PSDB      0\n",
      "4    15543    Doria  Vereador    PSOL      0\n",
      "5    16543   Guzmao  Vereador    PSDB      0\n",
      "6    17543  Mariano  Vereador    PSOL      0\n",
      "7    18543    Sueli  Vereador    PSOL      0\n",
      "8    19543    Maria  Vereador      PT      0\n",
      "9    20543     Adao  Vereador    PSDB      0\n",
      "10       0   Branco    Branco  Branco      0\n",
      " 20543\n",
      "PARA CONFIRMAR, DIGITE NOVAMENTE O NÚMERO DO SEU CANDIDATO 20543\n"
     ]
    },
    {
     "name": "stdout",
     "output_type": "stream",
     "text": [
      "TOTAL DE VOTOS:20\n",
      "Total: CARLOS-PSDB:4\n",
      "Total: JOÃO-PSOL:1\n",
      "Total: MARIO-PT:0\n",
      "Total: COLLOR-PSDB:7\n",
      "Total: DORIA-PSOL:1\n",
      "Total: GUZMAO-PSDB:1\n",
      "Total: MARIANO-PSOL:0\n",
      "Total: SUELI-PSOL:1\n",
      "Total: MARIA-PT:1\n",
      "Total: ADÃO-PT:0\n",
      "Branco/Nulo:4\n",
      "\n"
     ]
    }
   ],
   "source": [
    "# VOTAÇÃO PARA VEREADOR\n",
    "\n",
    "# Dataframe dos candidatos para zerézima\n",
    "\n",
    "vereadores = pd.DataFrame({\n",
    "    \"Numero\": [11543, 12543 , 13543, 14543, 15543, 16543, 17543, 18543, 19543, 20543, 0],\n",
    "    \"Nome\": ['Carlos', 'Joao', 'Mario', 'Collor', 'Doria', 'Guzmao', 'Mariano', 'Sueli', 'Maria', 'Adao', 'Branco'],\n",
    "    \"Cargo\": ['Vereador', 'Vereador', 'Vereador', 'Vereador', 'Vereador', 'Vereador', 'Vereador', 'Vereador', 'Vereador','Vereador', 'Branco'],\n",
    "    \"Partido\": ['PSDB', 'PSOL', 'PT', 'PSDB', 'PSOL', 'PSDB', 'PSOL','PSOL', 'PT', 'PSDB', 'Branco'],\n",
    "    \"Votos\": [0, 0, 0, 0, 0, 0, 0,0, 0, 0, 0]    \n",
    "})\n",
    "\n",
    "# Constantes\n",
    "\n",
    "numeros = [11543, 12543 , 13543, 14543, 15543, 16543, 17543, 18543, 19543, 20543] # Para calcular os brancos\n",
    "\n",
    "votos_carlos = votos_joao = votos_mario = votos_collor = votos_doria = votos_guzmao = votos_mariano = votos_sueli = votos_maria = votos_adao = votos_branco_pref = 0\n",
    "\n",
    "eleitores = int(input(\"número de eleitores\"))\n",
    "for n in range(eleitores):\n",
    "    print('*'*80)\n",
    "    tela_1 = int(input(\"Digite 1 para imprimir zerézima ou Digite 2 para iniciar a votação\"))\n",
    "    print('*'*80)\n",
    "    if tela_1 == 1:\n",
    "        print(f'ZERÉZIMA{os.linesep}{vereadores}')\n",
    "    else:\n",
    "        print('INICIAR VOTAÇÃO')\n",
    "        pass\n",
    "    votos = int(input(f'Para quem gostaria de votar para VEREADOR?{os.linesep}{vereadores}{os.linesep}'))\n",
    "    confirmar = int(input('PARA CONFIRMAR, DIGITE NOVAMENTE O NÚMERO DO SEU CANDIDATO'))\n",
    "    if confirmar == 11543:\n",
    "        votos_carlos += 1\n",
    "    elif confirmar == 12543:\n",
    "        votos_joao += 1\n",
    "    elif confirmar == 13543:\n",
    "        votos_mario += 1\n",
    "    elif confirmar == 14543:\n",
    "        votos_collor += 1\n",
    "    elif confirmar == 15543:\n",
    "        votos_doria += 1\n",
    "    elif confirmar == 16543:\n",
    "        votos_guzmao += 1\n",
    "    elif confirmar == 17543:\n",
    "        votos_mariano += 1\n",
    "    elif confirmar == 18543:\n",
    "        votos_sueli += 1                      \n",
    "    elif confirmar == 19543:\n",
    "        votos_maria += 1\n",
    "    elif confirmar == 120543:\n",
    "        votos_adao += 1\n",
    "    elif confirmar != numeros:\n",
    "        votos_branco_pref += 1                      \n",
    "    else:\n",
    "        break\n",
    "\n",
    "print(f'TOTAL DE VOTOS:{eleitores}{os.linesep}Total: CARLOS-PSDB:{votos_carlos}{os.linesep}Total: JOÃO-PSOL:{votos_joao}{os.linesep}Total: MARIO-PT:{votos_mario}{os.linesep}Total: COLLOR-PSDB:{votos_collor}{os.linesep}Total: DORIA-PSOL:{votos_doria}{os.linesep}Total: GUZMAO-PSDB:{votos_guzmao}{os.linesep}Total: MARIANO-PSOL:{votos_mariano}{os.linesep}Total: SUELI-PSOL:{votos_sueli}{os.linesep}Total: MARIA-PT:{votos_maria}{os.linesep}Total: ADÃO-PT:{votos_adao}{os.linesep}Branco/Nulo:{votos_branco_pref}{os.linesep}')"
   ]
  },
  {
   "cell_type": "code",
   "execution_count": 36,
   "id": "633b5a54-65d2-4f0a-b54d-934209d15690",
   "metadata": {},
   "outputs": [
    {
     "data": {
      "text/plain": [
       "Text(0.5, 0, 'candidatos')"
      ]
     },
     "execution_count": 36,
     "metadata": {},
     "output_type": "execute_result"
    },
    {
     "data": {
      "image/png": "[encoded data removed]",
      "text/plain": [
       "<Figure size 1080x360 with 1 Axes>"
      ]
     },
     "metadata": {
      "needs_background": "light"
     },
     "output_type": "display_data"
    }
   ],
   "source": [
    "# Biblioteca de gráficos\n",
    "import matplotlib.pyplot as plt\n",
    "\n",
    "a = (votos_carlos,\n",
    "     votos_joao,\n",
    "    votos_mario,\n",
    "     votos_collor,\n",
    "    votos_doria,\n",
    "     votos_guzmao,\n",
    "     votos_mariano,\n",
    "     votos_sueli,\n",
    "     votos_maria,\n",
    "     votos_adao,\n",
    "       votos_branco_pref)\n",
    "\n",
    "b = ('Carlos',\n",
    "    'João',\n",
    "    'Mário',\n",
    "    'Collor',\n",
    "    'Doria',\n",
    "     'Guzmão',\n",
    "     'Mariano',\n",
    "     'Sueli',\n",
    "     'Maria',\n",
    "     'Adão',\n",
    "     'Branco/Nulos')\n",
    "\n",
    "\n",
    "plt.figure(figsize=(15,5))\n",
    "plt.bar(b, a, color='Blue')\n",
    "plt.title('VOTAÇÃO PARA VEREADOR')\n",
    "plt.ylabel('nº de votos')\n",
    "plt.xlabel('candidatos')"
   ]
  }
 ],
 "metadata": {
  "kernelspec": {
   "display_name": "Python 3 (ipykernel)",
   "language": "python",
   "name": "python3"
  },
  "language_info": {
   "codemirror_mode": {
    "name": "ipython",
    "version": 3
   },
   "file_extension": ".py",
   "mimetype": "text/x-python",
   "name": "python",
   "nbconvert_exporter": "python",
   "pygments_lexer": "ipython3",
   "version": "3.9.7"
  }
 },
 "nbformat": 4,
 "nbformat_minor": 5
}
